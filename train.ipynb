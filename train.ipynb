{
 "cells": [
  {
   "cell_type": "code",
   "id": "initial_id",
   "metadata": {
    "collapsed": true,
    "ExecuteTime": {
     "end_time": "2024-07-05T19:35:43.985233Z",
     "start_time": "2024-07-05T19:35:40.655992Z"
    }
   },
   "source": [
    "from face2embeddings.data.setup import create_dataloaders\n",
    "from pathlib import Path\n",
    "from face2embeddings.model import FaceSwin\n",
    "from face2embeddings.utils import create_writer\n",
    "from face2embeddings.engine import train\n",
    "from torchvision.transforms import v2\n",
    "import torch\n",
    "torch.backends.cuda.matmul.allow_tf32 = True"
   ],
   "outputs": [],
   "execution_count": 1
  },
  {
   "metadata": {
    "ExecuteTime": {
     "end_time": "2024-07-05T19:35:51.405454Z",
     "start_time": "2024-07-05T19:35:51.401107Z"
    }
   },
   "cell_type": "code",
   "source": [
    "transform = v2.Compose([\n",
    "    v2.RandomHorizontalFlip(p=0.3),\n",
    "    v2.RandomRotation(degrees=(-25, 25), interpolation=v2.InterpolationMode.BILINEAR),\n",
    "    v2.ColorJitter(brightness=0.3, contrast=0.3, saturation=0.3, hue=0.3),\n",
    "    v2.RandomPosterize(bits=4, p=0.25),\n",
    "    v2.RandomEqualize(p=0.2),\n",
    "])"
   ],
   "id": "54521f75eef01111",
   "outputs": [],
   "execution_count": 3
  },
  {
   "metadata": {
    "ExecuteTime": {
     "end_time": "2024-07-05T19:38:24.434778Z",
     "start_time": "2024-07-05T19:35:53.764397Z"
    }
   },
   "cell_type": "code",
   "source": [
    "train_dataloader, val_dataloader = create_dataloaders(\n",
    "    train_dir=Path(r\"C:\\Users\\emely\\OneDrive\\Desktop\\face-auth-dataset\\train\"),\n",
    "    val_dir=Path(r\"C:\\Users\\emely\\OneDrive\\Desktop\\face-auth-dataset\\val\"),\n",
    "    transforms=transform,\n",
    "    batch_size=5,\n",
    "    num_workers=6,\n",
    ")"
   ],
   "id": "daafaeb889ff1b31",
   "outputs": [],
   "execution_count": 4
  },
  {
   "metadata": {
    "ExecuteTime": {
     "end_time": "2024-07-05T19:38:30.264114Z",
     "start_time": "2024-07-05T19:38:30.259228Z"
    }
   },
   "cell_type": "code",
   "source": "writer = create_writer(experiment_name=\"train-8\")",
   "id": "e1259b10d6bb0a03",
   "outputs": [
    {
     "name": "stdout",
     "output_type": "stream",
     "text": [
      "[INFO] Created SummaryWriter, saving to: runs\\2024-07-06\\train-8...\n"
     ]
    }
   ],
   "execution_count": 5
  },
  {
   "metadata": {
    "ExecuteTime": {
     "end_time": "2024-07-05T19:38:30.851625Z",
     "start_time": "2024-07-05T19:38:30.848962Z"
    }
   },
   "cell_type": "code",
   "source": "TRAIN_FROM_DEFAULT = False",
   "id": "a785f30f78f956e2",
   "outputs": [],
   "execution_count": 6
  },
  {
   "metadata": {
    "ExecuteTime": {
     "end_time": "2024-07-05T19:38:34.769081Z",
     "start_time": "2024-07-05T19:38:31.733148Z"
    }
   },
   "cell_type": "code",
   "source": [
    "if TRAIN_FROM_DEFAULT: \n",
    "    model = FaceSwin(train_from_default=True).to(torch.device(\"cuda\"))\n",
    "else:\n",
    "    model = FaceSwin()\n",
    "    model.load_encoder(Path(\"./model/face-swin-encoder-v2.pt\"))\n",
    "    model.to(torch.device(\"cuda\"))\n",
    "loss_fn = torch.nn.TripletMarginWithDistanceLoss(distance_function=torch.nn.PairwiseDistance(), margin=3)\n",
    "optimizer = torch.optim.AdamW(model.parameters(), lr=0.0001, weight_decay=1e-4)\n",
    "scheduler = torch.optim.lr_scheduler.LinearLR(optimizer, start_factor=0.001, end_factor=1, total_iters=30)"
   ],
   "id": "69e1147bd47160c7",
   "outputs": [],
   "execution_count": 7
  },
  {
   "metadata": {
    "ExecuteTime": {
     "end_time": "2024-07-05T19:38:40.730530Z",
     "start_time": "2024-07-05T19:38:36.629693Z"
    }
   },
   "cell_type": "code",
   "source": "model(torch.rand(5, 3, 224, 224).to(torch.device(\"cuda\"))).shape",
   "id": "6e5a050da168164c",
   "outputs": [
    {
     "data": {
      "text/plain": [
       "torch.Size([5, 256])"
      ]
     },
     "execution_count": 8,
     "metadata": {},
     "output_type": "execute_result"
    }
   ],
   "execution_count": 8
  },
  {
   "metadata": {
    "ExecuteTime": {
     "end_time": "2024-07-06T05:47:01.056526Z",
     "start_time": "2024-07-05T19:39:00.135133Z"
    }
   },
   "cell_type": "code",
   "source": [
    "results = train(\n",
    "    model=model,\n",
    "    train_dataloader=train_dataloader,\n",
    "    val_dataloader=val_dataloader,\n",
    "    loss_fn=loss_fn,\n",
    "    optimizer=optimizer,\n",
    "    scheduler=scheduler,\n",
    "    epochs=3,\n",
    "    writer=writer,\n",
    "    device=torch.device(\"cuda\"),\n",
    "    checkpoint_step=5000,\n",
    "    checkpoint_path=Path(\"./model/train/train-8\"),\n",
    ")"
   ],
   "id": "7ec9dd25cd375bb7",
   "outputs": [
    {
     "data": {
      "text/plain": [
       "Epochs Loop:   0%|          | 0/3 [00:00<?, ?it/s]"
      ],
      "application/vnd.jupyter.widget-view+json": {
       "version_major": 2,
       "version_minor": 0,
       "model_id": "f1c5038ae24c439c8250a3255ef06679"
      }
     },
     "metadata": {},
     "output_type": "display_data"
    },
    {
     "data": {
      "text/plain": [
       "Train Step:   0%|          | 0/35939 [00:00<?, ?it/s]"
      ],
      "application/vnd.jupyter.widget-view+json": {
       "version_major": 2,
       "version_minor": 0,
       "model_id": "da0e4d2c7c9f4c0d97fe4f52f71cf0df"
      }
     },
     "metadata": {},
     "output_type": "display_data"
    },
    {
     "data": {
      "text/plain": [
       "Validation Step:   0%|          | 0/5989 [00:00<?, ?it/s]"
      ],
      "application/vnd.jupyter.widget-view+json": {
       "version_major": 2,
       "version_minor": 0,
       "model_id": "a28201fa38cd4cc28a9ecb1ea651744c"
      }
     },
     "metadata": {},
     "output_type": "display_data"
    },
    {
     "name": "stdout",
     "output_type": "stream",
     "text": [
      "Epoch: 1 | train_loss: 0.5149 | val_loss: 0.4544 | \n"
     ]
    },
    {
     "data": {
      "text/plain": [
       "Train Step:   0%|          | 0/35939 [00:00<?, ?it/s]"
      ],
      "application/vnd.jupyter.widget-view+json": {
       "version_major": 2,
       "version_minor": 0,
       "model_id": "200aa3cd48e24b6d8512ab083f1a9132"
      }
     },
     "metadata": {},
     "output_type": "display_data"
    },
    {
     "data": {
      "text/plain": [
       "Validation Step:   0%|          | 0/5989 [00:00<?, ?it/s]"
      ],
      "application/vnd.jupyter.widget-view+json": {
       "version_major": 2,
       "version_minor": 0,
       "model_id": "e3e08aa01c1f4b7f91aa285ef403bec5"
      }
     },
     "metadata": {},
     "output_type": "display_data"
    },
    {
     "name": "stdout",
     "output_type": "stream",
     "text": [
      "Epoch: 2 | train_loss: 0.4292 | val_loss: 0.4078 | \n"
     ]
    },
    {
     "data": {
      "text/plain": [
       "Train Step:   0%|          | 0/35939 [00:00<?, ?it/s]"
      ],
      "application/vnd.jupyter.widget-view+json": {
       "version_major": 2,
       "version_minor": 0,
       "model_id": "e81fe0dcae674fc69686bf06fa06e804"
      }
     },
     "metadata": {},
     "output_type": "display_data"
    },
    {
     "data": {
      "text/plain": [
       "Validation Step:   0%|          | 0/5989 [00:00<?, ?it/s]"
      ],
      "application/vnd.jupyter.widget-view+json": {
       "version_major": 2,
       "version_minor": 0,
       "model_id": "ac6cb593003c49e080e12695238cb935"
      }
     },
     "metadata": {},
     "output_type": "display_data"
    },
    {
     "name": "stdout",
     "output_type": "stream",
     "text": [
      "Epoch: 3 | train_loss: 0.3984 | val_loss: 0.4056 | \n"
     ]
    }
   ],
   "execution_count": 9
  },
  {
   "metadata": {
    "ExecuteTime": {
     "end_time": "2024-07-06T10:09:48.650530Z",
     "start_time": "2024-07-06T10:09:47.851808Z"
    }
   },
   "cell_type": "code",
   "source": "torch.save(model.state_dict(), Path(\"./model/swin-face-v2.pt\"))",
   "id": "4c0c32790ef45512",
   "outputs": [],
   "execution_count": 10
  },
  {
   "metadata": {},
   "cell_type": "code",
   "outputs": [],
   "execution_count": null,
   "source": "",
   "id": "b37df77ee19ca7cc"
  }
 ],
 "metadata": {
  "kernelspec": {
   "display_name": "Python 3",
   "language": "python",
   "name": "python3"
  },
  "language_info": {
   "codemirror_mode": {
    "name": "ipython",
    "version": 2
   },
   "file_extension": ".py",
   "mimetype": "text/x-python",
   "name": "python",
   "nbconvert_exporter": "python",
   "pygments_lexer": "ipython2",
   "version": "2.7.6"
  }
 },
 "nbformat": 4,
 "nbformat_minor": 5
}
